{
 "cells": [
  {
   "attachments": {},
   "cell_type": "markdown",
   "metadata": {},
   "source": [
    "# Reading the data file using python "
   ]
  },
  {
   "attachments": {},
   "cell_type": "markdown",
   "metadata": {},
   "source": [
    "### all the imports"
   ]
  },
  {
   "cell_type": "code",
   "execution_count": 76,
   "metadata": {},
   "outputs": [],
   "source": [
    "import os\n"
   ]
  },
  {
   "attachments": {},
   "cell_type": "markdown",
   "metadata": {},
   "source": [
    "## getting all the files from the directory"
   ]
  },
  {
   "cell_type": "code",
   "execution_count": 2,
   "metadata": {},
   "outputs": [],
   "source": [
    "def get_files():\n",
    "    all_file_path = []\n",
    "    \"\"\"walk through the data dir to its sub-dirs and gets all the file with .review extension and return all the file_paths list\"\"\"\n",
    "    # looping through the directory and the sub-directory\n",
    "    for root, dirs, files in os.walk(\"data\"):\n",
    "        for file in files:\n",
    "            # getting the file end with .review\n",
    "            if file.endswith(\".review\"):\n",
    "                # joining the file path with the actual full path of the file \n",
    "                file_path = os.path.join(root, file)\n",
    "                # appending the file_path in the list \n",
    "                all_file_path.append(file_path)\n",
    "    return all_file_path\n"
   ]
  },
  {
   "attachments": {},
   "cell_type": "markdown",
   "metadata": {},
   "source": [
    "## categorized the files into list\n"
   ]
  },
  {
   "cell_type": "code",
   "execution_count": 3,
   "metadata": {},
   "outputs": [],
   "source": [
    "def categorise_files(all_file_path):\n",
    "    \"\"\"get all file path and categorised the files into positive, negative and unlabeled review and return the file path list as tuple\"\"\"\n",
    "    \n",
    "    pos_review_f_path = []\n",
    "    neg_review_f_path=[]\n",
    "    unl_review_f_path = []\n",
    "    \n",
    "    for file in all_file_path:\n",
    "        if \"positive\" in file:\n",
    "            pos_review_f_path.append(file)\n",
    "        elif \"negative\" in file:\n",
    "            neg_review_f_path.append(file)\n",
    "        else:\n",
    "            unl_review_f_path.append(file)\n",
    "    return pos_review_f_path, neg_review_f_path, unl_review_f_path"
   ]
  },
  {
   "attachments": {},
   "cell_type": "markdown",
   "metadata": {},
   "source": [
    "## reading the files"
   ]
  },
  {
   "cell_type": "code",
   "execution_count": 84,
   "metadata": {},
   "outputs": [],
   "source": [
    "def read_file(file_path):\n",
    "    \"\"\"reads the file from file path and return all lines in list\"\"\"\n",
    "    with open(file_path) as file:\n",
    "        items = file.readlines()\n",
    "    return items"
   ]
  },
  {
   "attachments": {},
   "cell_type": "markdown",
   "metadata": {},
   "source": [
    "## making the list of review after reading the file"
   ]
  },
  {
   "cell_type": "code",
   "execution_count": 86,
   "metadata": {},
   "outputs": [],
   "source": [
    "def build_review_list(items):\n",
    "    \"\"\"gets all the items, prepare a list of each review and returns the list of reviews\"\"\"\n",
    "    reviews = []\n",
    "    review = []\n",
    "    for item in items:\n",
    "        # remove \\n from the item\n",
    "        item = item[:-1]\n",
    "        # get the file inside the review block not including the start and the end block\n",
    "        if item != '<review>' and item != '</review':\n",
    "            review.append(item)\n",
    "            \n",
    "        #  adding the review to the review list  \n",
    "        if item == '</review>':\n",
    "            reviews.append(review)\n",
    "            review = []\n",
    "    return reviews\n",
    "   "
   ]
  },
  {
   "cell_type": "code",
   "execution_count": 88,
   "metadata": {},
   "outputs": [],
   "source": [
    "\n",
    "# we need to run read_file methods to all of the file to get the data \n",
    "# list to store positive review\n",
    "# all_positive_reviews = []\n",
    "# for file in positive_review_file_list:\n",
    "#     all_positive_reviews.append(read_file(file))\n",
    "# len(reviews)"
   ]
  },
  {
   "attachments": {},
   "cell_type": "markdown",
   "metadata": {},
   "source": [
    "## processing the review and making it ready to transfer into the dataframe"
   ]
  },
  {
   "cell_type": "code",
   "execution_count": 89,
   "metadata": {},
   "outputs": [],
   "source": [
    "def process_review_list(reviews):\n",
    "    \"\"\"gets the list of reviews, seperate the headings and values and returns as list of dictionary\"\"\"\n",
    "    dict_review_list = []\n",
    "    previous_key = None\n",
    "    \n",
    "    #iterating through reviews\n",
    "    for review in (reviews):\n",
    "        dict_review = {}\n",
    "        #iterating through a single review\n",
    "        for num, item in enumerate(review):\n",
    "            #eliminating null values\n",
    "            if item != \"\":\n",
    "                #getting and heading and assigning with corresponding values\n",
    "                if item[0] ==\"<\" and item[1] != \"/\":\n",
    "                    dict_review[item] = review[num + 1]\n",
    "                    previous_key = item\n",
    "                #checking if any values are missing and reassigning them\n",
    "                if item not in dict_review.values() and item[0] != '<':\n",
    "                    dict_review[previous_key] += item\n",
    "        # when a review is ready adding it to the list\n",
    "        dict_review_list.append(dict_review)\n",
    "    return dict_review_list"
   ]
  },
  {
   "cell_type": "code",
   "execution_count": 90,
   "metadata": {},
   "outputs": [],
   "source": [
    "\n"
   ]
  },
  {
   "cell_type": "code",
   "execution_count": null,
   "metadata": {},
   "outputs": [],
   "source": []
  }
 ],
 "metadata": {
  "kernelspec": {
   "display_name": "env",
   "language": "python",
   "name": "python3"
  },
  "language_info": {
   "codemirror_mode": {
    "name": "ipython",
    "version": 3
   },
   "file_extension": ".py",
   "mimetype": "text/x-python",
   "name": "python",
   "nbconvert_exporter": "python",
   "pygments_lexer": "ipython3",
   "version": "3.11.3"
  },
  "orig_nbformat": 4
 },
 "nbformat": 4,
 "nbformat_minor": 2
}
