{
 "cells": [
  {
   "attachments": {},
   "cell_type": "markdown",
   "metadata": {},
   "source": [
    "# Reading the data file using python "
   ]
  },
  {
   "attachments": {},
   "cell_type": "markdown",
   "metadata": {},
   "source": [
    "### all the imports"
   ]
  },
  {
   "cell_type": "code",
   "execution_count": 110,
   "metadata": {},
   "outputs": [],
   "source": [
    "import os\n",
    "import pandas as pd\n"
   ]
  },
  {
   "attachments": {},
   "cell_type": "markdown",
   "metadata": {},
   "source": [
    "## getting all the files from the directory"
   ]
  },
  {
   "cell_type": "code",
   "execution_count": 101,
   "metadata": {},
   "outputs": [],
   "source": [
    "def get_files():\n",
    "    all_file_path = []\n",
    "    \"\"\"walk through the data dir to its sub-dirs and gets all the file with .review extension and return all the file_paths list\"\"\"\n",
    "    # looping through the directory and the sub-directory\n",
    "    for root, dirs, files in os.walk(\"data\"):\n",
    "        for file in files:\n",
    "            # getting the file end with .review\n",
    "            if file.endswith(\".review\"):\n",
    "                # joining the file path with the actual full path of the file \n",
    "                file_path = os.path.join(root, file)\n",
    "                # appending the file_path in the list \n",
    "                all_file_path.append(file_path)\n",
    "    return all_file_path\n"
   ]
  },
  {
   "attachments": {},
   "cell_type": "markdown",
   "metadata": {},
   "source": [
    "## categorized the files into list\n"
   ]
  },
  {
   "cell_type": "code",
   "execution_count": 102,
   "metadata": {},
   "outputs": [],
   "source": [
    "def categorise_files(all_file_path):\n",
    "    \"\"\"get all file path and categorised the files into positive, negative and unlabeled review and return the file path list as tuple\"\"\"\n",
    "    \n",
    "    pos_review_f_path = []\n",
    "    neg_review_f_path=[]\n",
    "    unl_review_f_path = []\n",
    "    \n",
    "    for file in all_file_path:\n",
    "        if \"positive\" in file:\n",
    "            pos_review_f_path.append(file)\n",
    "        elif \"negative\" in file:\n",
    "            neg_review_f_path.append(file)\n",
    "        else:\n",
    "            unl_review_f_path.append(file)\n",
    "    return pos_review_f_path, neg_review_f_path, unl_review_f_path"
   ]
  },
  {
   "attachments": {},
   "cell_type": "markdown",
   "metadata": {},
   "source": [
    "## reading the files"
   ]
  },
  {
   "cell_type": "code",
   "execution_count": 84,
   "metadata": {},
   "outputs": [],
   "source": [
    "def read_file(file_path):\n",
    "    \"\"\"reads the file from file path and return all lines in list\"\"\"\n",
    "    with open(file_path) as file:\n",
    "        items = file.readlines()\n",
    "    return items"
   ]
  },
  {
   "attachments": {},
   "cell_type": "markdown",
   "metadata": {},
   "source": [
    "## making the list of review after reading the file"
   ]
  },
  {
   "cell_type": "code",
   "execution_count": 103,
   "metadata": {},
   "outputs": [],
   "source": [
    "def build_review_list(items):\n",
    "    \"\"\"gets all the items, prepare a list of each review and returns the list of reviews\"\"\"\n",
    "    reviews = []\n",
    "    review = []\n",
    "    for item in items:\n",
    "        # remove \\n from the item\n",
    "        item = item[:-1]\n",
    "        # get the file inside the review block not including the start and the end block\n",
    "        if item != '<review>' and item != '</review':\n",
    "            review.append(item)\n",
    "            \n",
    "        #  adding the review to the review list  \n",
    "        if item == '</review>':\n",
    "            reviews.append(review)\n",
    "            review = []\n",
    "    return reviews\n",
    "   "
   ]
  },
  {
   "cell_type": "code",
   "execution_count": 88,
   "metadata": {},
   "outputs": [],
   "source": [
    "\n",
    "# we need to run read_file methods to all of the file to get the data \n",
    "# list to store positive review\n",
    "# all_positive_reviews = []\n",
    "# for file in positive_review_file_list:\n",
    "#     all_positive_reviews.append(read_file(file))\n",
    "# len(reviews)"
   ]
  },
  {
   "attachments": {},
   "cell_type": "markdown",
   "metadata": {},
   "source": [
    "## processing the review and making it ready to transfer into the dataframe"
   ]
  },
  {
   "cell_type": "code",
   "execution_count": 104,
   "metadata": {},
   "outputs": [],
   "source": [
    "def process_review_list(list_of_reviews):\n",
    "    \"\"\"gets the list of reviews, seperate the headings and values and returns as list of dictionary\"\"\"\n",
    "    dict_review_list = []\n",
    "    previous_key = None\n",
    "    \n",
    "    #iterating through reviews\n",
    "    for review in (list_of_reviews):\n",
    "        dict_review = {}\n",
    "        #iterating through a single review\n",
    "        for num, item in enumerate(review):\n",
    "            #eliminating null values\n",
    "            if item != \"\":\n",
    "                #getting and heading and assigning with corresponding values\n",
    "                if item[0] ==\"<\" and item[1] != \"/\":\n",
    "                    dict_review[item] = review[num + 1]\n",
    "                    previous_key = item\n",
    "                #checking if any values are missing and reassigning them\n",
    "                if item not in dict_review.values() and item[0] != '<':\n",
    "                    dict_review[previous_key] += item\n",
    "        # when a review is ready adding it to the list\n",
    "        dict_review_list.append(dict_review)\n",
    "    return dict_review_list"
   ]
  },
  {
   "attachments": {},
   "cell_type": "markdown",
   "metadata": {},
   "source": [
    "### converting the list of the dict into the datarame to convert into the csv file or process straightly\n"
   ]
  },
  {
   "cell_type": "code",
   "execution_count": 105,
   "metadata": {},
   "outputs": [],
   "source": [
    "# creating the data from list of dict using lambda\n",
    "to_dataframe = lambda list_of_dict: pd.DataFrame(list_of_dict)"
   ]
  },
  {
   "attachments": {},
   "cell_type": "markdown",
   "metadata": {},
   "source": [
    "### converting the dataframe into the csv file and saving into the directory\n"
   ]
  },
  {
   "cell_type": "code",
   "execution_count": 106,
   "metadata": {},
   "outputs": [],
   "source": [
    "# convert and save to csv file\n",
    "save_to_csv = lambda df, file_name: df.to_csv(file_name, index=False, encoding='utf-8')"
   ]
  },
  {
   "attachments": {},
   "cell_type": "markdown",
   "metadata": {},
   "source": [
    "### combining all the process to get single list of review of each category file found in directory"
   ]
  },
  {
   "cell_type": "code",
   "execution_count": 107,
   "metadata": {},
   "outputs": [],
   "source": [
    "\n",
    "def convert_to_csv():\n",
    "    dir = os.path.abspath(os.getcwd()) + \"/data/csv_files/\"\n",
    "    \n",
    "    file_name = ('positive_review', 'negative_review', 'unlabled_review')\n",
    "\n",
    "    # get all the files\n",
    "    all_file_path = get_files()\n",
    "    \n",
    "    #categorised the files in the list\n",
    "    categories = categorise_files(all_file_path)\n",
    "    \n",
    "    #read all the files from each category:\n",
    "    for num, category in enumerate(categories):\n",
    "        \n",
    "        # hold all the items of each category in one list \n",
    "        items_holder = []\n",
    "        \n",
    "        for file_path in category:\n",
    "            # getting all the items\n",
    "            items = read_file(file_path)\n",
    "            items_holder.extend(items)\n",
    "        \n",
    "        # build the list of the items in one category\n",
    "        list_of_reviews = build_review_list(items_holder)\n",
    "        \n",
    "        # buid of list of processed review in dictionaries\n",
    "        list_of_dict_reviews = process_review_list(list_of_reviews)\n",
    "        \n",
    "        # build of dataframe from processed_list\n",
    "        data_frame = to_dataframe(list_of_dict_reviews)\n",
    "        \n",
    "        # save the dataframe into the csv file\n",
    "        save_to_csv(data_frame, file_name=(dir + file_name[num]))\n",
    "        \n",
    "            "
   ]
  },
  {
   "cell_type": "code",
   "execution_count": 111,
   "metadata": {},
   "outputs": [],
   "source": [
    "# convert to csv\n",
    "convert_to_csv()"
   ]
  },
  {
   "cell_type": "code",
   "execution_count": null,
   "metadata": {},
   "outputs": [],
   "source": []
  }
 ],
 "metadata": {
  "kernelspec": {
   "display_name": "env",
   "language": "python",
   "name": "python3"
  },
  "language_info": {
   "codemirror_mode": {
    "name": "ipython",
    "version": 3
   },
   "file_extension": ".py",
   "mimetype": "text/x-python",
   "name": "python",
   "nbconvert_exporter": "python",
   "pygments_lexer": "ipython3",
   "version": "3.11.3"
  },
  "orig_nbformat": 4
 },
 "nbformat": 4,
 "nbformat_minor": 2
}
