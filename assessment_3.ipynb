{
 "cells": [
  {
   "attachments": {},
   "cell_type": "markdown",
   "metadata": {},
   "source": [
    "# Reading the data file using python "
   ]
  },
  {
   "attachments": {},
   "cell_type": "markdown",
   "metadata": {},
   "source": [
    "## getting all the files from the directory"
   ]
  },
  {
   "cell_type": "code",
   "execution_count": 2,
   "metadata": {},
   "outputs": [],
   "source": [
    "# initalizing lists to store the file paths\n",
    "all_file_list = []\n",
    "positive_review_file_list = []\n",
    "negative_review_file_list = []\n",
    "unlabeled_review_file_list = []\n"
   ]
  },
  {
   "cell_type": "code",
   "execution_count": 3,
   "metadata": {},
   "outputs": [],
   "source": [
    "import os\n",
    "def get_all_files():\n",
    "    # list to append all the file path \n",
    "    # looping through the directory and the sub-directory\n",
    "    for root, dirs, files in os.walk(\"data\"):\n",
    "        for file in files:\n",
    "            # getting the file end with .review\n",
    "            if file.endswith(\".review\"):\n",
    "                # joining the file path with the actual full path of the file \n",
    "                file_path = os.path.join(root, file)\n",
    "                # appending the file_path in the list \n",
    "                all_file_list.append(file_path)\n",
    "get_all_files()\n"
   ]
  },
  {
   "attachments": {},
   "cell_type": "markdown",
   "metadata": {},
   "source": [
    "## categorized the files into list\n"
   ]
  },
  {
   "cell_type": "code",
   "execution_count": 4,
   "metadata": {},
   "outputs": [],
   "source": [
    "def categorized_file():\n",
    "    for file in all_file_list:\n",
    "        if \"positive\" in file:\n",
    "            positive_review_file_list.append(file)\n",
    "        elif \"negative\" in file:\n",
    "            negative_review_file_list.append(file)\n",
    "        else:\n",
    "            unlabeled_review_file_list.append(file)\n",
    "categorized_file()"
   ]
  },
  {
   "attachments": {},
   "cell_type": "markdown",
   "metadata": {},
   "source": [
    "## reading the files"
   ]
  },
  {
   "cell_type": "code",
   "execution_count": 9,
   "metadata": {},
   "outputs": [],
   "source": [
    "def read_file(file_path):\n",
    "    reviews = []\n",
    "    review = []\n",
    "    with open(file_path) as file:\n",
    "        items = file.readlines()\n",
    "        for item in items:\n",
    "            review.append(item)\n",
    "            if item == '</review>\\n':\n",
    "                reviews.append(review)\n",
    "                review = []\n",
    "    return reviews\n",
    "reviews = read_file(positive_review_file_list[0])"
   ]
  },
  {
   "cell_type": "code",
   "execution_count": 12,
   "metadata": {},
   "outputs": [
    {
     "data": {
      "text/plain": [
       "1000"
      ]
     },
     "execution_count": 12,
     "metadata": {},
     "output_type": "execute_result"
    }
   ],
   "source": [
    "len(reviews)"
   ]
  },
  {
   "cell_type": "code",
   "execution_count": null,
   "metadata": {},
   "outputs": [],
   "source": []
  }
 ],
 "metadata": {
  "kernelspec": {
   "display_name": "env",
   "language": "python",
   "name": "python3"
  },
  "language_info": {
   "codemirror_mode": {
    "name": "ipython",
    "version": 3
   },
   "file_extension": ".py",
   "mimetype": "text/x-python",
   "name": "python",
   "nbconvert_exporter": "python",
   "pygments_lexer": "ipython3",
   "version": "3.11.3"
  },
  "orig_nbformat": 4
 },
 "nbformat": 4,
 "nbformat_minor": 2
}
